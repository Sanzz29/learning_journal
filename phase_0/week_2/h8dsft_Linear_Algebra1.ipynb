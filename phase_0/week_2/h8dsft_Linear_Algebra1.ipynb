{
 "cells": [
  {
   "cell_type": "markdown",
   "metadata": {},
   "source": [
    "## **Non Graded Challenge 3 - Linear Algebra - Vector**"
   ]
  },
  {
   "cell_type": "markdown",
   "metadata": {},
   "source": [
    "Assignment Instructions\n"
   ]
  },
  {
   "cell_type": "markdown",
   "metadata": {},
   "source": [
    "1. Buatlah Vector dibawah ini dengan Python:\n",
    "\n",
    " \n",
    "\\begin{bmatrix}\n",
    "17 \\\\\n",
    "22 \\\\\n",
    "19\n",
    "\\end{bmatrix}\n",
    "2. Diberikan 3 buah vektor 3 dimensi:\n",
    " \n",
    " A=\n",
    "\\begin{bmatrix}\n",
    "17 \\\\\n",
    "22 \\\\\n",
    "19\n",
    "\\end{bmatrix}\n",
    ",B=\n",
    "\\begin{bmatrix}\n",
    "10 \\\\\n",
    "20 \\\\\n",
    "11\n",
    "\\end{bmatrix},\n",
    "C=\n",
    "\\begin{bmatrix}\n",
    "5 \\\\\n",
    "12 \\\\\n",
    "9\n",
    "\\end{bmatrix}\n",
    " \n",
    "\n",
    "Hitunglah:\n",
    "\n",
    "- A+B\n",
    "- B-C\n",
    "- A dot C\n",
    "- A x B\n",
    "- norm A\n",
    "- Sudut antara vektor A dan B\n",
    "- Buatlah plot dari vector berikut ini kedalam bidang 2D:\n",
    "\n",
    "\n",
    "U =\n",
    "\\begin{bmatrix}\n",
    "2 \\\\ 5\n",
    "\\end{bmatrix},\n",
    "V =\n",
    "\\begin{bmatrix}\n",
    "3 \\\\ 1\n",
    "\\end{bmatrix}\n",
    "\n",
    "  \n",
    " \n",
    "\n"
   ]
  },
  {
   "cell_type": "markdown",
   "metadata": {},
   "source": [
    "# Answer"
   ]
  },
  {
   "cell_type": "code",
   "execution_count": 1,
   "metadata": {},
   "outputs": [],
   "source": [
    "import numpy as np"
   ]
  },
  {
   "cell_type": "code",
   "execution_count": 2,
   "metadata": {},
   "outputs": [
    {
     "data": {
      "text/plain": [
       "array([17, 22, 19])"
      ]
     },
     "execution_count": 2,
     "metadata": {},
     "output_type": "execute_result"
    }
   ],
   "source": [
    "# 1. Buat Vector\n",
    "\n",
    "vector = np.array([17,22,19])\n",
    "vector"
   ]
  },
  {
   "cell_type": "code",
   "execution_count": 4,
   "metadata": {},
   "outputs": [
    {
     "data": {
      "text/plain": [
       "(array([17, 22, 19]), array([10, 20, 11]), array([ 5, 12,  9]))"
      ]
     },
     "execution_count": 4,
     "metadata": {},
     "output_type": "execute_result"
    }
   ],
   "source": [
    "#2.Vector 3 dimensi\n",
    "\n",
    "A = np.array([17,22,19])\n",
    "B = np.array([10,20,11])\n",
    "C = np.array([5,12,9])\n",
    "\n",
    "A, B, C"
   ]
  },
  {
   "cell_type": "code",
   "execution_count": 5,
   "metadata": {},
   "outputs": [
    {
     "data": {
      "text/plain": [
       "array([27, 42, 30])"
      ]
     },
     "execution_count": 5,
     "metadata": {},
     "output_type": "execute_result"
    }
   ],
   "source": [
    "# A + B\n",
    "A + B"
   ]
  },
  {
   "cell_type": "code",
   "execution_count": 6,
   "metadata": {},
   "outputs": [
    {
     "data": {
      "text/plain": [
       "array([5, 8, 2])"
      ]
     },
     "execution_count": 6,
     "metadata": {},
     "output_type": "execute_result"
    }
   ],
   "source": [
    "# B - C\n",
    "B - C"
   ]
  },
  {
   "cell_type": "code",
   "execution_count": 7,
   "metadata": {},
   "outputs": [
    {
     "data": {
      "text/plain": [
       "520"
      ]
     },
     "execution_count": 7,
     "metadata": {},
     "output_type": "execute_result"
    }
   ],
   "source": [
    "# A dot C\n",
    "A @ C"
   ]
  },
  {
   "cell_type": "code",
   "execution_count": 8,
   "metadata": {},
   "outputs": [
    {
     "data": {
      "text/plain": [
       "array([170, 440, 209])"
      ]
     },
     "execution_count": 8,
     "metadata": {},
     "output_type": "execute_result"
    }
   ],
   "source": [
    "# A x B\n",
    "A*B"
   ]
  },
  {
   "cell_type": "code",
   "execution_count": 9,
   "metadata": {},
   "outputs": [
    {
     "data": {
      "text/plain": [
       "33.67491648096547"
      ]
     },
     "execution_count": 9,
     "metadata": {},
     "output_type": "execute_result"
    }
   ],
   "source": [
    "# norm A\n",
    "np.linalg.norm(A)"
   ]
  },
  {
   "cell_type": "code",
   "execution_count": 10,
   "metadata": {},
   "outputs": [
    {
     "data": {
      "text/plain": [
       "0.9759590023331435"
      ]
     },
     "execution_count": 10,
     "metadata": {},
     "output_type": "execute_result"
    }
   ],
   "source": [
    "# Sudut antara A dan B (Consine Similiarty)\n",
    "\n",
    "# Pertama definisikan cos theta terlebih dahulu\n",
    "cos_theta = A @ B / (np.linalg.norm(A) * np.linalg.norm(B))\n",
    "cos_theta\n",
    "\n",
    "# Hasilnya 0,9~ yang dimana berarti nilai A dan B sudutnya saling berdekatan"
   ]
  },
  {
   "cell_type": "code",
   "execution_count": 11,
   "metadata": {},
   "outputs": [
    {
     "data": {
      "text/plain": [
       "0.21971776576153962"
      ]
     },
     "execution_count": 11,
     "metadata": {},
     "output_type": "execute_result"
    }
   ],
   "source": [
    "# Selanjutnya mencari sudutnya dengan cara mencari nilai radiannya\n",
    "\n",
    "rad = np.arccos(cos_theta)\n",
    "rad"
   ]
  },
  {
   "cell_type": "code",
   "execution_count": 12,
   "metadata": {},
   "outputs": [
    {
     "data": {
      "text/plain": [
       "12.588900662180242"
      ]
     },
     "execution_count": 12,
     "metadata": {},
     "output_type": "execute_result"
    }
   ],
   "source": [
    "# Selanjutnya nilai radian yang telah didapatkan akan diubah menjadi degree untuk mencari nilai sudutnya\n",
    "\n",
    "degree = np.degrees(rad)\n",
    "degree\n",
    "\n",
    "# Yang dimana berarti nilai sudut antara A dan B adalah 12 derajat."
   ]
  },
  {
   "cell_type": "code",
   "execution_count": 14,
   "metadata": {},
   "outputs": [],
   "source": [
    "import matplotlib.pyplot as plt"
   ]
  },
  {
   "cell_type": "code",
   "execution_count": 16,
   "metadata": {},
   "outputs": [],
   "source": [
    "import matplotlib.pyplot as plt\n",
    "\n",
    "def plot_vector2d(vector2d, origin=[0, 0], **options):\n",
    "    return plt.arrow(origin[0], origin[1], vector2d[0], vector2d[1],\n",
    "              head_width=0.2, head_length=0.3, length_includes_head=True,\n",
    "              **options)"
   ]
  },
  {
   "cell_type": "code",
   "execution_count": 17,
   "metadata": {},
   "outputs": [
    {
     "data": {
      "image/png": "[encoded data removed]",
      "text/plain": [
       "<Figure size 432x288 with 1 Axes>"
      ]
     },
     "metadata": {
      "needs_background": "light"
     },
     "output_type": "display_data"
    }
   ],
   "source": [
    "# Plot 2D / U = [2,5], V = [3,1]\n",
    "\n",
    "plot_vector2d(np.array([2,5]), color='r')\n",
    "plot_vector2d(np.array([3,1]), color='g')\n",
    "\n",
    "plt.axis([0,5,0,5]) # rentang axis sumbu x dan y\n",
    "plt.axvline(0)\n",
    "plt.axhline(0)\n",
    "plt.grid()\n",
    "plt.show()"
   ]
  },
  {
   "cell_type": "code",
   "execution_count": 18,
   "metadata": {},
   "outputs": [
    {
     "name": "stdout",
     "output_type": "stream",
     "text": [
      "Vector U :  [2 5] <class 'numpy.ndarray'>\n",
      "Vector V :  [3 1] <class 'numpy.ndarray'>\n"
     ]
    }
   ],
   "source": [
    "# Cara mudah / jawaban dari mas danu\n",
    "\n",
    "# Define the Vectors\n",
    "\n",
    "U = np.array([2, 5])\n",
    "V = np.array([3, 1])\n",
    "\n",
    "print('Vector U : ', U, type(U))\n",
    "print('Vector V : ', V, type(V))"
   ]
  },
  {
   "cell_type": "code",
   "execution_count": 19,
   "metadata": {},
   "outputs": [
    {
     "data": {
      "image/png": "[encoded data removed]",
      "text/plain": [
       "<Figure size 432x288 with 1 Axes>"
      ]
     },
     "metadata": {
      "needs_background": "light"
     },
     "output_type": "display_data"
    }
   ],
   "source": [
    "# Plot 2D\n",
    "\n",
    "import matplotlib.pyplot as plt\n",
    "\n",
    "plt.arrow(0, 0, U[0], U[1], color=\"r\", head_width=0.2)\n",
    "plt.arrow(0, 0, V[0], V[1], color=\"b\", head_width=0.2)\n",
    "plt.axis([0, 7, 0, 7])\n",
    "plt.grid()\n",
    "plt.show()"
   ]
  }
 ],
 "metadata": {
  "interpreter": {
   "hash": "b0d99e876c050b6ef76482d97f5c713b0b1a3dd6753e8700c9646be7e8b6b317"
  },
  "kernelspec": {
   "display_name": "Python 3.10.4 64-bit",
   "language": "python",
   "name": "python3"
  },
  "language_info": {
   "codemirror_mode": {
    "name": "ipython",
    "version": 3
   },
   "file_extension": ".py",
   "mimetype": "text/x-python",
   "name": "python",
   "nbconvert_exporter": "python",
   "pygments_lexer": "ipython3",
   "version": "3.10.4"
  },
  "orig_nbformat": 4
 },
 "nbformat": 4,
 "nbformat_minor": 2
}
