{
 "cells": [
  {
   "cell_type": "markdown",
   "metadata": {},
   "source": [
    "## Latihan Numpy \n"
   ]
  },
  {
   "cell_type": "code",
   "execution_count": 1,
   "metadata": {},
   "outputs": [],
   "source": [
    "#Import Library\n",
    "\n",
    "import numpy as np"
   ]
  },
  {
   "cell_type": "code",
   "execution_count": 2,
   "metadata": {},
   "outputs": [
    {
     "name": "stdout",
     "output_type": "stream",
     "text": [
      "[1, 2, 3, 4, 5]\n",
      "<class 'list'>\n",
      "[1 2 3 4 5]\n",
      "<class 'numpy.ndarray'>\n"
     ]
    }
   ],
   "source": [
    "# Perubahan dari List ke Array\n",
    "# np.array()\n",
    "\n",
    "a = [1,2,3,4,5]\n",
    "print (a)\n",
    "print (type(a))\n",
    "\n",
    "b = np.array(a)\n",
    "print (b)\n",
    "print (type(b))\n"
   ]
  },
  {
   "cell_type": "code",
   "execution_count": 3,
   "metadata": {},
   "outputs": [
    {
     "data": {
      "text/plain": [
       "array([[1, 2, 3],\n",
       "       [4, 5, 6]])"
      ]
     },
     "execution_count": 3,
     "metadata": {},
     "output_type": "execute_result"
    }
   ],
   "source": [
    "# Membuat Array 2D\n",
    "# Lihat seberapa banyak kurung siku di awal untuk menentukan jumlah dimensi\n",
    "\n",
    "c = [[1,2,3],\n",
    "     [4,5,6]]\n",
    "\n",
    "c = np.array(c)\n",
    "c"
   ]
  },
  {
   "cell_type": "code",
   "execution_count": 4,
   "metadata": {},
   "outputs": [
    {
     "name": "stdout",
     "output_type": "stream",
     "text": [
      "[[1 2 3]\n",
      " [4 5 6]]\n",
      "(2, 3)\n",
      "[1 2 3 4 5]\n",
      "(5,)\n"
     ]
    }
   ],
   "source": [
    "#Menentukan ukuran suatu array\n",
    "#.shape\n",
    "\n",
    "print(c)\n",
    "print(c.shape)\n",
    "print(b)\n",
    "print(b.shape)"
   ]
  },
  {
   "cell_type": "code",
   "execution_count": 5,
   "metadata": {},
   "outputs": [
    {
     "name": "stdout",
     "output_type": "stream",
     "text": [
      "[1 2 3 4 5]\n",
      "5\n",
      "[[1 2 3]\n",
      " [4 5 6]]\n",
      "6\n"
     ]
    }
   ],
   "source": [
    "#Menentukan jumlah total elemen suatu array\n",
    "#.size\n",
    "\n",
    "print(b)\n",
    "print(b.size)\n",
    "print(c)\n",
    "print(c.size)"
   ]
  },
  {
   "cell_type": "code",
   "execution_count": 6,
   "metadata": {},
   "outputs": [
    {
     "name": "stdout",
     "output_type": "stream",
     "text": [
      "[1 2 3 4 5]\n",
      "[1 2]\n",
      "[1 2 3 4 5]\n",
      "[1 3 5]\n",
      "[5 4 3 2 1]\n"
     ]
    }
   ],
   "source": [
    "#Indexing & Slicing\n",
    "print(b)\n",
    "print(b[0:2])\n",
    "print(b[::]) \n",
    "print(b[::2]) # Step : melangkahi 2x\n",
    "\n",
    "#Mengubah urutan array 1D dari belakang ke depan (Descending)\n",
    "print(b[::-1])\n",
    "\n"
   ]
  },
  {
   "cell_type": "markdown",
   "metadata": {},
   "source": [
    "**NOMOR 1**\n",
    "\n",
    "Buatlah sebuah array seperti dibawah ini dan tambahkan setiap elemennya dengan `1`.\n",
    "\n",
    "```\n",
    "a = [10, 20, 30, 40, 50]\n",
    "```"
   ]
  },
  {
   "cell_type": "code",
   "execution_count": 7,
   "metadata": {},
   "outputs": [
    {
     "name": "stdout",
     "output_type": "stream",
     "text": [
      "[11 21 31 41 51]\n",
      "[ 9 19 29 39 49]\n",
      "[10 20 30 40 50]\n"
     ]
    }
   ],
   "source": [
    "#Cara 1 : Menambahkan dengan bil. skalar\n",
    "\n",
    "a = [10, 20, 30, 40, 50]\n",
    "a = np.array(a)\n",
    "a\n",
    "\n",
    "print (a+1)\n",
    "print (a-1)\n",
    "print (a*1)"
   ]
  },
  {
   "cell_type": "code",
   "execution_count": 8,
   "metadata": {},
   "outputs": [
    {
     "data": {
      "text/plain": [
       "array([11., 21., 31., 41., 51.])"
      ]
     },
     "execution_count": 8,
     "metadata": {},
     "output_type": "execute_result"
    }
   ],
   "source": [
    "# Cara 2 : Menambahkan dengan \"Special Array\"\n",
    "#np.ones()\n",
    "a+np.ones(5)\n"
   ]
  },
  {
   "cell_type": "markdown",
   "metadata": {},
   "source": [
    "**NOMOR 2**\n",
    "\n",
    "Buatlah sebuah array seperti dibawah ini dan keluarkan element yang bernilai negatif.\n",
    "\n",
    "```\n",
    "b = [-3, 0, -2, 1, 2, 3, -4]\n",
    "```"
   ]
  },
  {
   "cell_type": "code",
   "execution_count": 9,
   "metadata": {},
   "outputs": [
    {
     "data": {
      "text/plain": [
       "array([-3,  0, -2,  1,  2,  3, -4])"
      ]
     },
     "execution_count": 9,
     "metadata": {},
     "output_type": "execute_result"
    }
   ],
   "source": [
    "#Buat array\n",
    "b = [-3, 0, -2, 1, 2, 3, -4]\n",
    "b = np.array(b)\n",
    "b"
   ]
  },
  {
   "cell_type": "code",
   "execution_count": 10,
   "metadata": {},
   "outputs": [
    {
     "data": {
      "text/plain": [
       "array([ True, False,  True, False, False, False,  True])"
      ]
     },
     "execution_count": 10,
     "metadata": {},
     "output_type": "execute_result"
    }
   ],
   "source": [
    "# Jika `b < 0` maka hanya akan dilakukan pengecekan apakah element di `b` kurang dari 0 atau tidak\n",
    "b<0"
   ]
  },
  {
   "cell_type": "code",
   "execution_count": 11,
   "metadata": {},
   "outputs": [
    {
     "data": {
      "text/plain": [
       "array([-3, -2, -4])"
      ]
     },
     "execution_count": 11,
     "metadata": {},
     "output_type": "execute_result"
    }
   ],
   "source": [
    "# Jika `b[b < 0]` maka element di `b` kurang dari 0 akan ditampilkan\n",
    "b[b<0]"
   ]
  },
  {
   "cell_type": "markdown",
   "metadata": {},
   "source": [
    "**NOMOR 3**\n",
    "\n",
    "Buatlah sebuah array seperti dibawah ini. Keluarkan element yang bernilai positif kemudian urutkan dari nilai yang kecil ke besar\n",
    "\n",
    "```\n",
    "c = [10, -8, 4, 5, -41, 7, 5, -4]\n",
    "```"
   ]
  },
  {
   "cell_type": "code",
   "execution_count": 12,
   "metadata": {},
   "outputs": [
    {
     "data": {
      "text/plain": [
       "array([ 10,  -8,   4,   5, -41,   7,   5,  -4])"
      ]
     },
     "execution_count": 12,
     "metadata": {},
     "output_type": "execute_result"
    }
   ],
   "source": [
    "#Buat array\n",
    "c = [10, -8, 4, 5, -41, 7, 5, -4]\n",
    "c = np.array(c)\n",
    "c"
   ]
  },
  {
   "cell_type": "code",
   "execution_count": 13,
   "metadata": {},
   "outputs": [
    {
     "data": {
      "text/plain": [
       "array([ 4,  5,  5,  7, 10])"
      ]
     },
     "execution_count": 13,
     "metadata": {},
     "output_type": "execute_result"
    }
   ],
   "source": [
    "# Sort elemen dari bilangan kecil ke besar\n",
    "#np.sort(nama_array)\n",
    "np.sort(c[c>0])"
   ]
  },
  {
   "cell_type": "code",
   "execution_count": 47,
   "metadata": {},
   "outputs": [
    {
     "data": {
      "text/plain": [
       "array([10,  7,  5,  5,  4])"
      ]
     },
     "execution_count": 47,
     "metadata": {},
     "output_type": "execute_result"
    }
   ],
   "source": [
    "# Sort elemen dari bilangan besar ke kecil\n",
    "#sort dan Slicing dengan step = -1\n",
    "\n",
    "#print ( np.sort (c[c>0])[::-1])\n",
    "np.sort(c[c>0])[::-1]"
   ]
  },
  {
   "cell_type": "markdown",
   "metadata": {},
   "source": [
    "**NOMOR 4**\n",
    "\n",
    "Buatlah array seperti dibawah ini kemudian tumpukkan secara horizontal dan vertikal satu sama lain.\n",
    "\n",
    "```\n",
    "d = [1, 2, 3, 4, 5]\n",
    "e = [6, 7, 8, 9, 10]\n",
    "```"
   ]
  },
  {
   "cell_type": "code",
   "execution_count": 15,
   "metadata": {},
   "outputs": [
    {
     "name": "stdout",
     "output_type": "stream",
     "text": [
      "[1 2 3 4 5] [ 6  7  8  9 10]\n"
     ]
    }
   ],
   "source": [
    "#Buat array\n",
    "d = [1, 2, 3, 4, 5]\n",
    "e = [6, 7, 8, 9, 10]\n",
    "\n",
    "d = np.array(d)\n",
    "e = np.array(e)\n",
    "print(d,e)"
   ]
  },
  {
   "cell_type": "code",
   "execution_count": 16,
   "metadata": {},
   "outputs": [
    {
     "name": "stdout",
     "output_type": "stream",
     "text": [
      "[ 1  2  3  4  5  6  7  8  9 10]\n",
      "[[ 1  2  3  4  5]\n",
      " [ 6  7  8  9 10]]\n"
     ]
    }
   ],
   "source": [
    "#Stacking Horizontal -> np.hstack((array1,array2))\n",
    "#Stacking Vertikal -> np.vstack((array1,array2))\n",
    "print(np.hstack((d,e)))\n",
    "print(np.vstack((d,e)))"
   ]
  },
  {
   "cell_type": "markdown",
   "metadata": {},
   "source": [
    "**NOMOR 5**\n",
    "\n",
    "Buatlah dua buah array seperti dibawah ini yang berasal dari 1 deklarasi variabel yang sama. Kemudian, kalikan array pertama dengan `2` dan kalikan array kedua dengan `3`.\n",
    "\n",
    "```\n",
    "f = [10, 20, 30, 40, 50]\n",
    "```\n",
    "\n",
    "Ekspektasi output : \n",
    "```\n",
    "hasil perkalian dengan 2 -> [20, 40, 60, 80, 100] \n",
    "hasil perkalian dengan 3 -> [30, 60, 90, 120, 150]\n",
    "```"
   ]
  },
  {
   "cell_type": "code",
   "execution_count": 17,
   "metadata": {},
   "outputs": [
    {
     "data": {
      "text/plain": [
       "array([10, 20, 30, 40, 50])"
      ]
     },
     "execution_count": 17,
     "metadata": {},
     "output_type": "execute_result"
    }
   ],
   "source": [
    "#Buat array f\n",
    "f = [10,20,30,40,50]\n",
    "f = np.array(f)\n",
    "f"
   ]
  },
  {
   "cell_type": "code",
   "execution_count": 18,
   "metadata": {},
   "outputs": [],
   "source": [
    "#Copy array f ke variabel baru\n",
    "f2 = f.copy"
   ]
  },
  {
   "cell_type": "code",
   "execution_count": 19,
   "metadata": {},
   "outputs": [
    {
     "name": "stdout",
     "output_type": "stream",
     "text": [
      "[ 20  40  60  80 100]\n",
      "[ 60 120 180 240 300]\n"
     ]
    }
   ],
   "source": [
    "#Kalikan masing2 variabel\n",
    "f = f*2\n",
    "print (f)\n",
    "\n",
    "f2 = f*3\n",
    "print(f2)"
   ]
  },
  {
   "cell_type": "markdown",
   "metadata": {},
   "source": [
    "**NOMOR 6**\n",
    "\n",
    "Buatlah sebuah array seperti dibawah ini dan hitung total jumlahnya.\n",
    "\n",
    "```\n",
    "h = [1, 2, 3, 4, 5]\n",
    "j = [ [1, 2, 3],\n",
    "      [4, 5, 6]]\n",
    "```\n",
    "\n",
    "Ekspektasi output :\n",
    "\n",
    "```\n",
    "total nilai h = 15\n",
    "total nilai j berdasarkan penjumlahan baris = [6, 15]\n",
    "total nilai j berdasarkan penjumlahan kolom = [5, 7, 9]\n",
    "```"
   ]
  },
  {
   "cell_type": "code",
   "execution_count": 20,
   "metadata": {},
   "outputs": [
    {
     "name": "stdout",
     "output_type": "stream",
     "text": [
      "[1 2 3 4 5]\n",
      "[[1 2 3]\n",
      " [4 5 6]]\n"
     ]
    }
   ],
   "source": [
    "#Buat array\n",
    "h = [1, 2, 3, 4, 5]\n",
    "j = [ [1, 2, 3],\n",
    "      [4, 5, 6]]\n",
    "\n",
    "h = np.array(h)\n",
    "j = np.array(j)\n",
    "print(h)\n",
    "print(j)"
   ]
  },
  {
   "cell_type": "code",
   "execution_count": 21,
   "metadata": {},
   "outputs": [
    {
     "data": {
      "text/plain": [
       "15"
      ]
     },
     "execution_count": 21,
     "metadata": {},
     "output_type": "execute_result"
    }
   ],
   "source": [
    "#jumlahkan array h\n",
    "#.sum()\n",
    "h.sum()\n"
   ]
  },
  {
   "cell_type": "code",
   "execution_count": 22,
   "metadata": {},
   "outputs": [
    {
     "data": {
      "text/plain": [
       "array([ 6, 15])"
      ]
     },
     "execution_count": 22,
     "metadata": {},
     "output_type": "execute_result"
    }
   ],
   "source": [
    "#Penjumlahan berdasarkan baris\n",
    "#baris -> axis = 1\n",
    "\n",
    "j.sum(axis=1)"
   ]
  },
  {
   "cell_type": "code",
   "execution_count": 23,
   "metadata": {},
   "outputs": [
    {
     "data": {
      "text/plain": [
       "array([5, 7, 9])"
      ]
     },
     "execution_count": 23,
     "metadata": {},
     "output_type": "execute_result"
    }
   ],
   "source": [
    "#Penjumlahan berdasarkan kolom\n",
    "# kolom -> axis = 0\n",
    "\n",
    "j.sum(axis=0)"
   ]
  },
  {
   "cell_type": "markdown",
   "metadata": {},
   "source": [
    "**NOMOR 7**\n",
    "\n",
    "Buatlah sebuah array seperti dibawah ini dan cari nilai `min`, `max`, dan `sum` per baris dan per kolom.\n",
    "\n",
    "```\n",
    "k = [ [1, 2, 3],\n",
    "      [4, 5, 6]]\n",
    "```"
   ]
  },
  {
   "cell_type": "code",
   "execution_count": 24,
   "metadata": {},
   "outputs": [
    {
     "data": {
      "text/plain": [
       "array([[1, 2, 3],\n",
       "       [4, 5, 6]])"
      ]
     },
     "execution_count": 24,
     "metadata": {},
     "output_type": "execute_result"
    }
   ],
   "source": [
    "#Buat array\n",
    "\n",
    "k = [ [1, 2, 3],\n",
    "      [4, 5, 6]]\n",
    "k = np.array(k)\n",
    "k"
   ]
  },
  {
   "cell_type": "code",
   "execution_count": 25,
   "metadata": {},
   "outputs": [
    {
     "name": "stdout",
     "output_type": "stream",
     "text": [
      "[1 4]\n",
      "[1 2 3]\n",
      "[3 6]\n",
      "[4 5 6]\n",
      "[ 6 15]\n",
      "[5 7 9]\n"
     ]
    }
   ],
   "source": [
    "#Mencari nilai minimum -> .min()\n",
    "#Mencari nilai maximum - > .max()\n",
    "#Mencari nilai total -> .sum()\n",
    "\n",
    "#0 : kolom\n",
    "#1 : baris\n",
    "\n",
    "print(k.min(axis=1)) \n",
    "print(k.min(axis=0)) \n",
    "\n",
    "print(k.max(axis=1))\n",
    "print(k.max(axis=0))\n",
    "\n",
    "print(k.sum(axis=1))\n",
    "print(k.sum(axis=0))"
   ]
  },
  {
   "cell_type": "markdown",
   "metadata": {},
   "source": []
  },
  {
   "cell_type": "markdown",
   "metadata": {},
   "source": [
    "**NOMOR 8**\n",
    "\n",
    "Buatlah sebuah array seperti dibawah ini dan cari baris kedua dan kolom kedua.\n",
    "\n",
    "```\n",
    "n = [ [1, 2, 3], \n",
    "      [4, 5, 6],\n",
    "      [7, 8, 9]]\n",
    "```"
   ]
  },
  {
   "cell_type": "code",
   "execution_count": 26,
   "metadata": {},
   "outputs": [],
   "source": [
    "#Buat array\n",
    "\n",
    "n = [ [1, 2, 3], \n",
    "      [4, 5, 6],\n",
    "      [7, 8, 9]]\n",
    "\n",
    "n = np.array(n)\n",
    "\n"
   ]
  },
  {
   "cell_type": "code",
   "execution_count": 27,
   "metadata": {},
   "outputs": [
    {
     "data": {
      "text/plain": [
       "5"
      ]
     },
     "execution_count": 27,
     "metadata": {},
     "output_type": "execute_result"
    }
   ],
   "source": [
    "#Get baris&Kolom\n",
    "# nama_array[baris,kolom]\n",
    "\n",
    "n[1,1]"
   ]
  },
  {
   "cell_type": "code",
   "execution_count": null,
   "metadata": {},
   "outputs": [],
   "source": []
  },
  {
   "cell_type": "code",
   "execution_count": 28,
   "metadata": {},
   "outputs": [
    {
     "name": "stdout",
     "output_type": "stream",
     "text": [
      "[4 5 6]\n"
     ]
    }
   ],
   "source": [
    "# Get baris kedua\n",
    "# Bisa menggunakan n[1] atau n[1, :]\n",
    "\n",
    "print(n[1])"
   ]
  },
  {
   "cell_type": "code",
   "execution_count": 29,
   "metadata": {},
   "outputs": [
    {
     "name": "stdout",
     "output_type": "stream",
     "text": [
      "[2 5 8]\n"
     ]
    }
   ],
   "source": [
    "# Get kolom kedua (menampilkan secara array 1D)\n",
    "#n[:, 1]\n",
    "\n",
    "print(n[:,1])"
   ]
  },
  {
   "cell_type": "code",
   "execution_count": 91,
   "metadata": {},
   "outputs": [
    {
     "data": {
      "text/plain": [
       "1"
      ]
     },
     "execution_count": 91,
     "metadata": {},
     "output_type": "execute_result"
    }
   ],
   "source": [
    "# Get kolom kedua (menampilkan secara array 2D)\n",
    "# nama_array[:, [index_kolom]]\n",
    "n[0,0]"
   ]
  },
  {
   "cell_type": "code",
   "execution_count": 105,
   "metadata": {},
   "outputs": [
    {
     "data": {
      "text/plain": [
       "array([[1, 0, 0],\n",
       "       [0, 5, 0],\n",
       "       [0, 0, 9]])"
      ]
     },
     "execution_count": 105,
     "metadata": {},
     "output_type": "execute_result"
    }
   ],
   "source": [
    "# Get elemen diagonal (dari kiri ke kanan)\n",
    "# np.diag()\n",
    "# buka dokumentasi\n",
    "\n",
    "np.diag(np.diag(n))\n",
    "#np.diag(n)           #untuk jadi 1 array"
   ]
  },
  {
   "cell_type": "code",
   "execution_count": 101,
   "metadata": {},
   "outputs": [
    {
     "data": {
      "text/plain": [
       "array([3, 5, 7])"
      ]
     },
     "execution_count": 101,
     "metadata": {},
     "output_type": "execute_result"
    }
   ],
   "source": [
    "# Get elemen diagonal (dari kanan ke kiri)\n",
    "# np.diag(np.fliplr(n))\n",
    "\n",
    "np.diag(np.fliplr(n))"
   ]
  },
  {
   "cell_type": "markdown",
   "metadata": {},
   "source": [
    "**NOMOR 9**\n",
    "\n",
    "Buatlah sebuah array seperti dibawah ini dan cari nilai `min`, `max`, dan `sum` untuk baris kedua dan kolom kedua.\n",
    "\n",
    "```\n",
    "m = [ [1, 2, 3], \n",
    "      [4, 5, 6],\n",
    "      [7, 8, 9]]\n",
    "```"
   ]
  },
  {
   "cell_type": "code",
   "execution_count": 33,
   "metadata": {},
   "outputs": [
    {
     "data": {
      "text/plain": [
       "array([[1, 2, 3],\n",
       "       [4, 5, 6],\n",
       "       [7, 8, 9]])"
      ]
     },
     "execution_count": 33,
     "metadata": {},
     "output_type": "execute_result"
    }
   ],
   "source": [
    "#Buat array\n",
    "m = [ [1, 2, 3], \n",
    "      [4, 5, 6],\n",
    "      [7, 8, 9]]\n",
    "m = np.array(m)\n",
    "m"
   ]
  },
  {
   "cell_type": "code",
   "execution_count": 88,
   "metadata": {},
   "outputs": [
    {
     "name": "stdout",
     "output_type": "stream",
     "text": [
      "[4 5 6]\n",
      "[2 5 8]\n"
     ]
    }
   ],
   "source": [
    "#buat variabel yang berisikan baris ke 2\n",
    "m_baris = m[1,:]\n",
    "print(m_baris)\n",
    "\n",
    "#buat variabel yang berisikan kolom ke 2\n",
    "\n",
    "m_kolom = m[0:,1]\n",
    "print(m_kolom)"
   ]
  },
  {
   "cell_type": "code",
   "execution_count": 90,
   "metadata": {},
   "outputs": [
    {
     "name": "stdout",
     "output_type": "stream",
     "text": [
      "SUM:\n",
      "15\n",
      "15\n",
      "-----\n",
      "MIN:\n",
      "4\n",
      "2\n",
      "-----\n",
      "MAX:\n",
      "6\n",
      "8\n"
     ]
    }
   ],
   "source": [
    "#Cari masing2 nilai sum, min, dan max\n",
    "\n",
    "print(\"SUM:\")\n",
    "print(np.sum(m_baris))\n",
    "print(np.sum(m_kolom))\n",
    "\n",
    "print(\"-\"*5)\n",
    "\n",
    "print(\"MIN:\")\n",
    "print(np.min(m_baris))\n",
    "print(np.min(m_kolom))\n",
    "\n",
    "print(\"-\"*5)\n",
    "\n",
    "print(\"MAX:\")\n",
    "print(np.max(m_baris))\n",
    "print(np.max(m_kolom))"
   ]
  },
  {
   "cell_type": "markdown",
   "metadata": {},
   "source": [
    "**NOMOR 10**\n",
    "\n",
    "<img src='https://i.ibb.co/JvBzgWn/greyscale.png'>\n",
    "\n",
    "Download image [disini](https://i.ibb.co/JvBzgWn/greyscale.png)\n",
    "\n",
    "* Load gambar tersebut dengan menggunakan library matplotlib.\n",
    "* Jawab pertanyaan berikut ini : \n",
    "  - Berapa ukuran gambar tersebut.\n",
    "  - Berapa total piksel/element pada gambar tersebut.\n",
    "  - Cerahkan gambar tersebut dengan menambahkan suatu angka."
   ]
  },
  {
   "cell_type": "code",
   "execution_count": 50,
   "metadata": {},
   "outputs": [
    {
     "name": "stdout",
     "output_type": "stream",
     "text": [
      "Requirement already satisfied: matplotlib in c:\\users\\sanz\\anaconda3\\lib\\site-packages (3.4.3)\n",
      "Requirement already satisfied: pillow>=6.2.0 in c:\\users\\sanz\\anaconda3\\lib\\site-packages (from matplotlib) (8.4.0)\n",
      "Requirement already satisfied: pyparsing>=2.2.1 in c:\\users\\sanz\\anaconda3\\lib\\site-packages (from matplotlib) (3.0.4)\n",
      "Requirement already satisfied: cycler>=0.10 in c:\\users\\sanz\\anaconda3\\lib\\site-packages (from matplotlib) (0.10.0)\n",
      "Requirement already satisfied: python-dateutil>=2.7 in c:\\users\\sanz\\anaconda3\\lib\\site-packages (from matplotlib) (2.8.2)\n",
      "Requirement already satisfied: numpy>=1.16 in c:\\users\\sanz\\anaconda3\\lib\\site-packages (from matplotlib) (1.20.3)\n",
      "Requirement already satisfied: kiwisolver>=1.0.1 in c:\\users\\sanz\\anaconda3\\lib\\site-packages (from matplotlib) (1.3.1)\n",
      "Requirement already satisfied: six in c:\\users\\sanz\\anaconda3\\lib\\site-packages (from cycler>=0.10->matplotlib) (1.16.0)\n"
     ]
    }
   ],
   "source": [
    "#Install matplotlib in jupyter\n",
    "import sys  \n",
    "!{sys.executable} -m pip install --user matplotlib"
   ]
  },
  {
   "cell_type": "code",
   "execution_count": 51,
   "metadata": {},
   "outputs": [],
   "source": [
    "#Import matplotlib\n",
    "import matplotlib.pyplot as plt"
   ]
  },
  {
   "cell_type": "code",
   "execution_count": 64,
   "metadata": {},
   "outputs": [],
   "source": [
    "#Baca gambar menggunakan plt.imread('location_gambar') lalu masukkan ke variabel\n",
    "\n",
    "img = plt.imread('greyscale.png')"
   ]
  },
  {
   "cell_type": "code",
   "execution_count": 61,
   "metadata": {},
   "outputs": [
    {
     "data": {
      "text/plain": [
       "(700, 1120)"
      ]
     },
     "execution_count": 61,
     "metadata": {},
     "output_type": "execute_result"
    }
   ],
   "source": [
    "#Cek ukuran gambar\n",
    "#.shape\n",
    "img.shape"
   ]
  },
  {
   "cell_type": "code",
   "execution_count": 63,
   "metadata": {},
   "outputs": [
    {
     "data": {
      "text/plain": [
       "784000"
      ]
     },
     "execution_count": 63,
     "metadata": {},
     "output_type": "execute_result"
    }
   ],
   "source": [
    "# Total Piksel\n",
    "#.size\n",
    "img.size"
   ]
  },
  {
   "cell_type": "code",
   "execution_count": 65,
   "metadata": {},
   "outputs": [
    {
     "data": {
      "text/plain": [
       "array([[0.37254903, 0.3529412 , 0.34509805, ..., 0.        , 0.        ,\n",
       "        0.        ],\n",
       "       [0.38431373, 0.36078432, 0.34509805, ..., 0.        , 0.        ,\n",
       "        0.        ],\n",
       "       [0.3882353 , 0.36078432, 0.34117648, ..., 0.        , 0.        ,\n",
       "        0.        ],\n",
       "       ...,\n",
       "       [0.08235294, 0.07450981, 0.09411765, ..., 0.0627451 , 0.0627451 ,\n",
       "        0.06666667],\n",
       "       [0.07843138, 0.07450981, 0.10588235, ..., 0.06666667, 0.06666667,\n",
       "        0.06666667],\n",
       "       [0.05882353, 0.07058824, 0.12156863, ..., 0.07843138, 0.07843138,\n",
       "        0.07843138]], dtype=float32)"
      ]
     },
     "execution_count": 65,
     "metadata": {},
     "output_type": "execute_result"
    }
   ],
   "source": [
    "#Nilai piksel\n",
    "#img, udah di scalling\n",
    "img"
   ]
  },
  {
   "cell_type": "code",
   "execution_count": 66,
   "metadata": {},
   "outputs": [],
   "source": [
    "#Memastikan tipe data menjadi array\n",
    "#np.asarray()\n",
    "\n",
    "img = np.asarray(img)"
   ]
  },
  {
   "cell_type": "code",
   "execution_count": 67,
   "metadata": {},
   "outputs": [
    {
     "data": {
      "text/plain": [
       "0.39215686274509803"
      ]
     },
     "execution_count": 67,
     "metadata": {},
     "output_type": "execute_result"
    }
   ],
   "source": [
    "#Menentukan nilai yg akan ditambahkan ke piksel\n",
    "#Ubah ke skala 0-1, divide by 255 (highest pixel value)\n",
    "\n",
    "added_value = 100\n",
    "added_value = added_value / 255\n",
    "added_value"
   ]
  },
  {
   "cell_type": "code",
   "execution_count": 68,
   "metadata": {},
   "outputs": [],
   "source": [
    "#Copy datanya dulu (penting setiap ingin memodifikasi data) ke variabel baru\n",
    "\n",
    "new_img = img.copy()\n",
    "\n",
    "#tambahkan nilai piksel ke gambar\n",
    "\n",
    "new_img = new_img + added_value"
   ]
  },
  {
   "cell_type": "code",
   "execution_count": 79,
   "metadata": {},
   "outputs": [
    {
     "data": {
      "text/plain": [
       "<matplotlib.image.AxesImage at 0x182f721f5e0>"
      ]
     },
     "execution_count": 79,
     "metadata": {},
     "output_type": "execute_result"
    },
    {
     "data": {
      "image/png": "[encoded data removed]",
      "text/plain": [
       "<Figure size 432x288 with 1 Axes>"
      ]
     },
     "metadata": {
      "needs_background": "light"
     },
     "output_type": "display_data"
    }
   ],
   "source": [
    "# Menampilkan gambar original\n",
    "# `img` : array gambar\n",
    "# `cmap` : color map #figure\n",
    "# `vmin` : value minimum #figure\n",
    "# `vmax` : value maximum #figure\n",
    "#plt.imshow(nama_variabel, cmap='gray', vmin=0, vmax=1)\n",
    "\n",
    "plt.imshow(img , cmap =\"viridis\", vmin=0, vmax=1)\n"
   ]
  },
  {
   "cell_type": "code",
   "execution_count": 46,
   "metadata": {},
   "outputs": [],
   "source": [
    "# Menampilkan gambar yg sudah ditambah suatu value\n"
   ]
  },
  {
   "cell_type": "markdown",
   "metadata": {},
   "source": []
  }
 ],
 "metadata": {
  "interpreter": {
   "hash": "fbe69909b876abbd803d291e51ebabcdbbeff4e7f625f723ebefe76e750e4611"
  },
  "kernelspec": {
   "display_name": "Python 3.7.9 64-bit",
   "language": "python",
   "name": "python3"
  },
  "language_info": {
   "codemirror_mode": {
    "name": "ipython",
    "version": 3
   },
   "file_extension": ".py",
   "mimetype": "text/x-python",
   "name": "python",
   "nbconvert_exporter": "python",
   "pygments_lexer": "ipython3",
   "version": "3.9.7"
  },
  "orig_nbformat": 4
 },
 "nbformat": 4,
 "nbformat_minor": 2
}
