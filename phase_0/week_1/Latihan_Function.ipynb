{
 "cells": [
  {
   "cell_type": "markdown",
   "metadata": {},
   "source": [
    "# -- Function --"
   ]
  },
  {
   "cell_type": "code",
   "execution_count": 3,
   "metadata": {},
   "outputs": [],
   "source": [
    "#contoh function\n",
    "\n",
    "def fungsi_cetak (variable, var2=\"ini bisa juga\"):\n",
    "    '''\n",
    "    ini adalah fungsi cetak\n",
    "    '''\n",
    "    print(f\"saya ingin mencetak {variable} .... {var2}\")"
   ]
  },
  {
   "cell_type": "code",
   "execution_count": 4,
   "metadata": {},
   "outputs": [
    {
     "name": "stdout",
     "output_type": "stream",
     "text": [
      "saya ingin mencetak abi .... test\n"
     ]
    }
   ],
   "source": [
    "# contoh membuat isi variable\n",
    "\n",
    "fungsi_cetak (\"abi\", \"test\")"
   ]
  },
  {
   "cell_type": "code",
   "execution_count": 5,
   "metadata": {},
   "outputs": [
    {
     "name": "stdout",
     "output_type": "stream",
     "text": [
      "saya ingin mencetak abi .... ini bisa juga\n"
     ]
    }
   ],
   "source": [
    "fungsi_cetak (\"abi\")"
   ]
  },
  {
   "cell_type": "code",
   "execution_count": 6,
   "metadata": {},
   "outputs": [
    {
     "name": "stdout",
     "output_type": "stream",
     "text": [
      "saya ingin mencetak sanz .... begini juga bisa\n"
     ]
    }
   ],
   "source": [
    "fungsi_cetak (var2=\"begini juga bisa\", variable=\"sanz\")"
   ]
  },
  {
   "cell_type": "code",
   "execution_count": 7,
   "metadata": {},
   "outputs": [
    {
     "name": "stdout",
     "output_type": "stream",
     "text": [
      "saya ingin mencetak sanzabi .... swasta\n"
     ]
    }
   ],
   "source": [
    "nama = \"sanzabi\"\n",
    "sekolah = \"swasta\"\n",
    "\n",
    "fungsi_cetak (nama,sekolah)\n"
   ]
  },
  {
   "cell_type": "code",
   "execution_count": 8,
   "metadata": {},
   "outputs": [],
   "source": [
    "def changeme( mylist ):\n",
    "   '''This changes a passed list into this function'''\n",
    "   mylist = mylist+[1,2,3,4] #nilai global\n",
    "   print(\"\\nValues inside the function : \", mylist)\n",
    "   return mylist"
   ]
  },
  {
   "cell_type": "code",
   "execution_count": 9,
   "metadata": {},
   "outputs": [],
   "source": [
    "mylist = [10,20,30] #nilai lokal"
   ]
  },
  {
   "cell_type": "code",
   "execution_count": 10,
   "metadata": {},
   "outputs": [
    {
     "name": "stdout",
     "output_type": "stream",
     "text": [
      "\n",
      "Values inside the function :  [10, 20, 30, 1, 2, 3, 4]\n",
      "[10, 20, 30]\n",
      "\n",
      "Values inside the function :  [10, 20, 30, 1, 2, 3, 4]\n"
     ]
    }
   ],
   "source": [
    "changeme(mylist)  # nilai global\n",
    "print(mylist)  # nilai lokal\n",
    "mylist = changeme(mylist)\n"
   ]
  },
  {
   "cell_type": "code",
   "execution_count": 11,
   "metadata": {},
   "outputs": [],
   "source": [
    "# Contoh function dengan loop\n",
    "\n",
    "def deteksi_angka (x):\n",
    "    if x % 2 == 0:\n",
    "        print(f\"{x} adalah angka genap\")\n",
    "    else:\n",
    "        print (f\"{x} adalah angka ganjil\")"
   ]
  },
  {
   "cell_type": "code",
   "execution_count": 12,
   "metadata": {},
   "outputs": [
    {
     "name": "stdout",
     "output_type": "stream",
     "text": [
      "2 adalah angka genap\n"
     ]
    }
   ],
   "source": [
    "deteksi_angka (2)"
   ]
  },
  {
   "cell_type": "code",
   "execution_count": 13,
   "metadata": {},
   "outputs": [],
   "source": [
    "# fungsi didalam fungsi\n",
    "\n",
    "def tambah (*var1):  # *var1 contoh variable yang bisa digunakan sebanyak mungkin tanpa harus dinisiasi 1 per 1\n",
    "    return sum(var1)"
   ]
  },
  {
   "cell_type": "code",
   "execution_count": 14,
   "metadata": {},
   "outputs": [
    {
     "data": {
      "text/plain": [
       "37"
      ]
     },
     "execution_count": 14,
     "metadata": {},
     "output_type": "execute_result"
    }
   ],
   "source": [
    "tambah (10,2,4,6,8,4,3)"
   ]
  },
  {
   "cell_type": "code",
   "execution_count": 15,
   "metadata": {},
   "outputs": [],
   "source": [
    "def bmi_calculator(nama, berat, tinggi):\n",
    "    bmi = berat / (tinggi**2)\n",
    "    if bmi < 18.5:\n",
    "        print(f\"{nama} Skor BMI anda adalah {bmi} = Underweight\")\n",
    "    elif bmi >= 18.5 and bmi <= 24.9:\n",
    "        print(f\"{nama} Skor BMI anda adalah {bmi} = Normal\")\n",
    "    else:\n",
    "        print(f\"{nama} Skor BMI anda adalah {bmi} = Overweight\")\n"
   ]
  },
  {
   "cell_type": "code",
   "execution_count": 16,
   "metadata": {},
   "outputs": [
    {
     "name": "stdout",
     "output_type": "stream",
     "text": [
      "abi Skor BMI anda adalah 35.91836734693877 = Overweight\n"
     ]
    }
   ],
   "source": [
    "nama = input(\"Nama anda : \")\n",
    "berat = int(input(\"Berat anda : \"))\n",
    "tinggi = float(input(\"Tinggi anda: \"))\n",
    "\n",
    "#berat = int(berat)\n",
    "#tinggi = float(tinggi)\n",
    "\n",
    "bmi_calculator(nama=nama, berat=berat, tinggi=tinggi)\n"
   ]
  },
  {
   "cell_type": "code",
   "execution_count": 17,
   "metadata": {},
   "outputs": [],
   "source": [
    "\n",
    "\n",
    "def deteksi (nama):\n",
    "   # if nama ==\"abi\":\n",
    "    #    print (\"true\")\n",
    "  #  else:\n",
    "   #     print(\"false\")\n",
    "   return nama ==\"abi\"\n",
    "    "
   ]
  },
  {
   "cell_type": "code",
   "execution_count": 18,
   "metadata": {},
   "outputs": [
    {
     "data": {
      "text/plain": [
       "True"
      ]
     },
     "execution_count": 18,
     "metadata": {},
     "output_type": "execute_result"
    }
   ],
   "source": [
    "nama = input(\"Nama anda: \")\n",
    "deteksi(nama)"
   ]
  },
  {
   "cell_type": "code",
   "execution_count": 19,
   "metadata": {},
   "outputs": [],
   "source": [
    "def deteksi2 (nama):\n",
    "    return \"abi\" in nama.lower()"
   ]
  },
  {
   "cell_type": "code",
   "execution_count": 20,
   "metadata": {},
   "outputs": [
    {
     "data": {
      "text/plain": [
       "True"
      ]
     },
     "execution_count": 20,
     "metadata": {},
     "output_type": "execute_result"
    }
   ],
   "source": [
    "nama = input(\"Nama anda: \")\n",
    "deteksi2(nama)"
   ]
  }
 ],
 "metadata": {
  "interpreter": {
   "hash": "b0d99e876c050b6ef76482d97f5c713b0b1a3dd6753e8700c9646be7e8b6b317"
  },
  "kernelspec": {
   "display_name": "Python 3.10.4 64-bit",
   "language": "python",
   "name": "python3"
  },
  "language_info": {
   "codemirror_mode": {
    "name": "ipython",
    "version": 3
   },
   "file_extension": ".py",
   "mimetype": "text/x-python",
   "name": "python",
   "nbconvert_exporter": "python",
   "pygments_lexer": "ipython3",
   "version": "3.10.4"
  },
  "orig_nbformat": 4
 },
 "nbformat": 4,
 "nbformat_minor": 2
}
