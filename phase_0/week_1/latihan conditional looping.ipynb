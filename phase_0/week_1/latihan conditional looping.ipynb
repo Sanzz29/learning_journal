{
 "cells": [
  {
   "cell_type": "code",
   "execution_count": 2,
   "metadata": {},
   "outputs": [
    {
     "name": "stdout",
     "output_type": "stream",
     "text": [
      "50 sama\n"
     ]
    }
   ],
   "source": [
    "x = 50\n",
    "\n",
    "if x < 20:\n",
    "    print (f\"{x} lebih kecil\")\n",
    "elif x == 50:\n",
    "    print (f\"{x} sama\")\n",
    "else:\n",
    "    print (\"ga sama\")"
   ]
  }
 ],
 "metadata": {
  "interpreter": {
   "hash": "d585fadf01ed65b4de90874849c1078f4d9da583636c5cffbaf2e0c4f62978c8"
  },
  "kernelspec": {
   "display_name": "Python 3.9.7 ('base')",
   "language": "python",
   "name": "python3"
  },
  "language_info": {
   "codemirror_mode": {
    "name": "ipython",
    "version": 3
   },
   "file_extension": ".py",
   "mimetype": "text/x-python",
   "name": "python",
   "nbconvert_exporter": "python",
   "pygments_lexer": "ipython3",
   "version": "3.9.7"
  },
  "orig_nbformat": 4
 },
 "nbformat": 4,
 "nbformat_minor": 2
}
